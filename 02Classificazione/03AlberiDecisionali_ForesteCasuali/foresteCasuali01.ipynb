{
 "cells": [
  {
   "cell_type": "markdown",
   "id": "019ed233-907c-4043-9797-d4e2bd3b9dfb",
   "metadata": {},
   "source": [
    "<a href=\"https://colab.research.google.com/github/ccasadei/corso-ia/blob/master/02Classificazione/03AlberiDecisionali_ForesteCasuali/foresteCasuali01.ipynb\" target=\"_parent\"><img src=\"https://colab.research.google.com/assets/colab-badge.svg\" alt=\"Open In Colab\"/></a>"
   ]
  },
  {
   "cell_type": "markdown",
   "id": "3ef824ec-78c6-4618-8704-d91c0762fbdb",
   "metadata": {},
   "source": [
    "# Foreste Casuali\n",
    "## Esercizio 1\n",
    "**Author: Cristiano Casadei**"
   ]
  },
  {
   "cell_type": "code",
   "execution_count": 1,
   "id": "116e1050-5ac1-404a-8b31-2363ee48e789",
   "metadata": {},
   "outputs": [
    {
     "name": "stdout",
     "output_type": "stream",
     "text": [
      "--2022-12-19 13:43:37--  https://raw.githubusercontent.com/mikeizbicki/datasets/master/csv/uci/Indian%20Liver%20Patient%20Dataset%20(ILPD).csv\n",
      "Resolving raw.githubusercontent.com (raw.githubusercontent.com)... 185.199.108.133, 185.199.109.133, 185.199.110.133, ...\n",
      "Connecting to raw.githubusercontent.com (raw.githubusercontent.com)|185.199.108.133|:443... connected.\n",
      "HTTP request sent, awaiting response... 200 OK\n",
      "Length: 23755 (23K) [text/plain]\n",
      "Saving to: ‘liver.csv’\n",
      "\n",
      "liver.csv           100%[===================>]  23.20K  --.-KB/s    in 0.005s  \n",
      "\n",
      "2022-12-19 13:43:37 (4.91 MB/s) - ‘liver.csv’ saved [23755/23755]\n",
      "\n"
     ]
    }
   ],
   "source": [
    "!wget \"https://raw.githubusercontent.com/mikeizbicki/datasets/master/csv/uci/Indian%20Liver%20Patient%20Dataset%20(ILPD).csv\" -O liver.csv"
   ]
  },
  {
   "cell_type": "code",
   "execution_count": 2,
   "id": "eab4dfbb-7b67-4a02-9b80-9a751c31f0e4",
   "metadata": {},
   "outputs": [],
   "source": [
    "import numpy as np\n",
    "import pandas as pd\n",
    "from sklearn.ensemble import RandomForestClassifier\n",
    "from sklearn.metrics import accuracy_score\n",
    "from sklearn.model_selection import train_test_split"
   ]
  },
  {
   "cell_type": "code",
   "execution_count": 3,
   "id": "802870ea-3249-44c5-8dbc-a1fd8fd6bbc5",
   "metadata": {},
   "outputs": [
    {
     "name": "stdout",
     "output_type": "stream",
     "text": [
      "Diamo uno sguardo alla struttura dati\n",
      "<class 'pandas.core.frame.DataFrame'>\n",
      "RangeIndex: 583 entries, 0 to 582\n",
      "Data columns (total 11 columns):\n",
      " #   Column  Non-Null Count  Dtype  \n",
      "---  ------  --------------  -----  \n",
      " 0   AGE     583 non-null    int64  \n",
      " 1   GENDER  583 non-null    object \n",
      " 2   TB      583 non-null    float64\n",
      " 3   DB      583 non-null    float64\n",
      " 4   ALK     583 non-null    int64  \n",
      " 5   SGPT    583 non-null    int64  \n",
      " 6   SGOT    583 non-null    int64  \n",
      " 7   TP      583 non-null    float64\n",
      " 8   ALB     583 non-null    float64\n",
      " 9   AG      579 non-null    float64\n",
      " 10  LABEL   583 non-null    int64  \n",
      "dtypes: float64(5), int64(5), object(1)\n",
      "memory usage: 50.2+ KB\n"
     ]
    }
   ],
   "source": [
    "# carico il dataset\n",
    "indianLiver = pd.read_csv(\"./liver.csv\", names=[\"AGE\", \"GENDER\", \"TB\", \"DB\", \"ALK\", \"SGPT\", \"SGOT\", \"TP\", \"ALB\", \"AG\", \"LABEL\"])\n",
    "print(\"Diamo uno sguardo alla struttura dati\")\n",
    "indianLiver.info()"
   ]
  },
  {
   "cell_type": "code",
   "execution_count": 4,
   "id": "da38c380-3492-4b3d-a126-0269cbceaec6",
   "metadata": {},
   "outputs": [
    {
     "name": "stdout",
     "output_type": "stream",
     "text": [
      "Diamo uno sguardo ai dati\n"
     ]
    },
    {
     "data": {
      "text/html": [
       "<div>\n",
       "<style scoped>\n",
       "    .dataframe tbody tr th:only-of-type {\n",
       "        vertical-align: middle;\n",
       "    }\n",
       "\n",
       "    .dataframe tbody tr th {\n",
       "        vertical-align: top;\n",
       "    }\n",
       "\n",
       "    .dataframe thead th {\n",
       "        text-align: right;\n",
       "    }\n",
       "</style>\n",
       "<table border=\"1\" class=\"dataframe\">\n",
       "  <thead>\n",
       "    <tr style=\"text-align: right;\">\n",
       "      <th></th>\n",
       "      <th>AGE</th>\n",
       "      <th>GENDER</th>\n",
       "      <th>TB</th>\n",
       "      <th>DB</th>\n",
       "      <th>ALK</th>\n",
       "      <th>SGPT</th>\n",
       "      <th>SGOT</th>\n",
       "      <th>TP</th>\n",
       "      <th>ALB</th>\n",
       "      <th>AG</th>\n",
       "      <th>LABEL</th>\n",
       "    </tr>\n",
       "  </thead>\n",
       "  <tbody>\n",
       "    <tr>\n",
       "      <th>0</th>\n",
       "      <td>65</td>\n",
       "      <td>Female</td>\n",
       "      <td>0.7</td>\n",
       "      <td>0.1</td>\n",
       "      <td>187</td>\n",
       "      <td>16</td>\n",
       "      <td>18</td>\n",
       "      <td>6.8</td>\n",
       "      <td>3.3</td>\n",
       "      <td>0.90</td>\n",
       "      <td>1</td>\n",
       "    </tr>\n",
       "    <tr>\n",
       "      <th>1</th>\n",
       "      <td>62</td>\n",
       "      <td>Male</td>\n",
       "      <td>10.9</td>\n",
       "      <td>5.5</td>\n",
       "      <td>699</td>\n",
       "      <td>64</td>\n",
       "      <td>100</td>\n",
       "      <td>7.5</td>\n",
       "      <td>3.2</td>\n",
       "      <td>0.74</td>\n",
       "      <td>1</td>\n",
       "    </tr>\n",
       "    <tr>\n",
       "      <th>2</th>\n",
       "      <td>62</td>\n",
       "      <td>Male</td>\n",
       "      <td>7.3</td>\n",
       "      <td>4.1</td>\n",
       "      <td>490</td>\n",
       "      <td>60</td>\n",
       "      <td>68</td>\n",
       "      <td>7.0</td>\n",
       "      <td>3.3</td>\n",
       "      <td>0.89</td>\n",
       "      <td>1</td>\n",
       "    </tr>\n",
       "    <tr>\n",
       "      <th>3</th>\n",
       "      <td>58</td>\n",
       "      <td>Male</td>\n",
       "      <td>1.0</td>\n",
       "      <td>0.4</td>\n",
       "      <td>182</td>\n",
       "      <td>14</td>\n",
       "      <td>20</td>\n",
       "      <td>6.8</td>\n",
       "      <td>3.4</td>\n",
       "      <td>1.00</td>\n",
       "      <td>1</td>\n",
       "    </tr>\n",
       "    <tr>\n",
       "      <th>4</th>\n",
       "      <td>72</td>\n",
       "      <td>Male</td>\n",
       "      <td>3.9</td>\n",
       "      <td>2.0</td>\n",
       "      <td>195</td>\n",
       "      <td>27</td>\n",
       "      <td>59</td>\n",
       "      <td>7.3</td>\n",
       "      <td>2.4</td>\n",
       "      <td>0.40</td>\n",
       "      <td>1</td>\n",
       "    </tr>\n",
       "  </tbody>\n",
       "</table>\n",
       "</div>"
      ],
      "text/plain": [
       "   AGE  GENDER    TB   DB  ALK  SGPT  SGOT   TP  ALB    AG  LABEL\n",
       "0   65  Female   0.7  0.1  187    16    18  6.8  3.3  0.90      1\n",
       "1   62    Male  10.9  5.5  699    64   100  7.5  3.2  0.74      1\n",
       "2   62    Male   7.3  4.1  490    60    68  7.0  3.3  0.89      1\n",
       "3   58    Male   1.0  0.4  182    14    20  6.8  3.4  1.00      1\n",
       "4   72    Male   3.9  2.0  195    27    59  7.3  2.4  0.40      1"
      ]
     },
     "execution_count": 4,
     "metadata": {},
     "output_type": "execute_result"
    }
   ],
   "source": [
    "print(\"Diamo uno sguardo ai dati\")\n",
    "indianLiver.head()"
   ]
  },
  {
   "cell_type": "code",
   "execution_count": 5,
   "id": "7b81d4e7-18c5-465e-887b-8c22095ddf50",
   "metadata": {},
   "outputs": [
    {
     "name": "stdout",
     "output_type": "stream",
     "text": [
      "Il dataset modificato con le colonne dummies del sesso\n"
     ]
    },
    {
     "data": {
      "text/html": [
       "<div>\n",
       "<style scoped>\n",
       "    .dataframe tbody tr th:only-of-type {\n",
       "        vertical-align: middle;\n",
       "    }\n",
       "\n",
       "    .dataframe tbody tr th {\n",
       "        vertical-align: top;\n",
       "    }\n",
       "\n",
       "    .dataframe thead th {\n",
       "        text-align: right;\n",
       "    }\n",
       "</style>\n",
       "<table border=\"1\" class=\"dataframe\">\n",
       "  <thead>\n",
       "    <tr style=\"text-align: right;\">\n",
       "      <th></th>\n",
       "      <th>AGE</th>\n",
       "      <th>TB</th>\n",
       "      <th>DB</th>\n",
       "      <th>ALK</th>\n",
       "      <th>SGPT</th>\n",
       "      <th>SGOT</th>\n",
       "      <th>TP</th>\n",
       "      <th>ALB</th>\n",
       "      <th>AG</th>\n",
       "      <th>LABEL</th>\n",
       "      <th>GENDER_Female</th>\n",
       "      <th>GENDER_Male</th>\n",
       "    </tr>\n",
       "  </thead>\n",
       "  <tbody>\n",
       "    <tr>\n",
       "      <th>0</th>\n",
       "      <td>65</td>\n",
       "      <td>0.7</td>\n",
       "      <td>0.1</td>\n",
       "      <td>187</td>\n",
       "      <td>16</td>\n",
       "      <td>18</td>\n",
       "      <td>6.8</td>\n",
       "      <td>3.3</td>\n",
       "      <td>0.90</td>\n",
       "      <td>1</td>\n",
       "      <td>1</td>\n",
       "      <td>0</td>\n",
       "    </tr>\n",
       "    <tr>\n",
       "      <th>1</th>\n",
       "      <td>62</td>\n",
       "      <td>10.9</td>\n",
       "      <td>5.5</td>\n",
       "      <td>699</td>\n",
       "      <td>64</td>\n",
       "      <td>100</td>\n",
       "      <td>7.5</td>\n",
       "      <td>3.2</td>\n",
       "      <td>0.74</td>\n",
       "      <td>1</td>\n",
       "      <td>0</td>\n",
       "      <td>1</td>\n",
       "    </tr>\n",
       "    <tr>\n",
       "      <th>2</th>\n",
       "      <td>62</td>\n",
       "      <td>7.3</td>\n",
       "      <td>4.1</td>\n",
       "      <td>490</td>\n",
       "      <td>60</td>\n",
       "      <td>68</td>\n",
       "      <td>7.0</td>\n",
       "      <td>3.3</td>\n",
       "      <td>0.89</td>\n",
       "      <td>1</td>\n",
       "      <td>0</td>\n",
       "      <td>1</td>\n",
       "    </tr>\n",
       "    <tr>\n",
       "      <th>3</th>\n",
       "      <td>58</td>\n",
       "      <td>1.0</td>\n",
       "      <td>0.4</td>\n",
       "      <td>182</td>\n",
       "      <td>14</td>\n",
       "      <td>20</td>\n",
       "      <td>6.8</td>\n",
       "      <td>3.4</td>\n",
       "      <td>1.00</td>\n",
       "      <td>1</td>\n",
       "      <td>0</td>\n",
       "      <td>1</td>\n",
       "    </tr>\n",
       "    <tr>\n",
       "      <th>4</th>\n",
       "      <td>72</td>\n",
       "      <td>3.9</td>\n",
       "      <td>2.0</td>\n",
       "      <td>195</td>\n",
       "      <td>27</td>\n",
       "      <td>59</td>\n",
       "      <td>7.3</td>\n",
       "      <td>2.4</td>\n",
       "      <td>0.40</td>\n",
       "      <td>1</td>\n",
       "      <td>0</td>\n",
       "      <td>1</td>\n",
       "    </tr>\n",
       "  </tbody>\n",
       "</table>\n",
       "</div>"
      ],
      "text/plain": [
       "   AGE    TB   DB  ALK  SGPT  SGOT   TP  ALB    AG  LABEL  GENDER_Female  \\\n",
       "0   65   0.7  0.1  187    16    18  6.8  3.3  0.90      1              1   \n",
       "1   62  10.9  5.5  699    64   100  7.5  3.2  0.74      1              0   \n",
       "2   62   7.3  4.1  490    60    68  7.0  3.3  0.89      1              0   \n",
       "3   58   1.0  0.4  182    14    20  6.8  3.4  1.00      1              0   \n",
       "4   72   3.9  2.0  195    27    59  7.3  2.4  0.40      1              0   \n",
       "\n",
       "   GENDER_Male  \n",
       "0            0  \n",
       "1            1  \n",
       "2            1  \n",
       "3            1  \n",
       "4            1  "
      ]
     },
     "execution_count": 5,
     "metadata": {},
     "output_type": "execute_result"
    }
   ],
   "source": [
    "# codifico le colonne non numeriche con delle colonne booleane dummy\n",
    "# in questo caso la colonna \"gender\" verrà sostituita da due colonne\n",
    "# \"gender_female\" e \"gender_male\" che indicheranno l'appartenenza al genere\n",
    "indianLiver = pd.get_dummies(indianLiver)\n",
    "print(\"Il dataset modificato con le colonne dummies del sesso\")\n",
    "indianLiver.head()"
   ]
  },
  {
   "cell_type": "code",
   "execution_count": 6,
   "id": "e051297c-a6e5-46be-85e8-a9716677ebf5",
   "metadata": {},
   "outputs": [],
   "source": [
    "# creo i dataset delle proprietà X e del target Y\n",
    "X = indianLiver.drop(\"LABEL\", axis=1).values\n",
    "Y = indianLiver[\"LABEL\"].values\n",
    "\n",
    "# elimino le righe dove compare un NaN nei valori (darebbe errore in fase di elaborazione)\n",
    "Y = Y[~np.isnan(X).any(axis=1)]\n",
    "X = X[~np.isnan(X).any(axis=1)]\n",
    "\n",
    "# suddivido il dataset in dataset di train e di test\n",
    "X_train, X_test, Y_train, Y_test = train_test_split(X, Y, test_size=0.3, random_state=0)\n",
    "\n",
    "# NOTA: le foreste casuali non richiedono normalizzazione o standardizzazione!"
   ]
  },
  {
   "cell_type": "code",
   "execution_count": 7,
   "id": "e6c01cf4-8046-4e03-aa40-b10d573bcafb",
   "metadata": {},
   "outputs": [
    {
     "name": "stdout",
     "output_type": "stream",
     "text": [
      "Uso l'algoritmo 'gini' per l'impurità\n",
      "Accuracy train set: 1.0\n",
      "Accuracy test set: 0.6666666666666666\n"
     ]
    }
   ],
   "source": [
    "# istanzio la classe di creazione di foreste casuali\n",
    "# imposto un random_state per ottenere risultati consistenti nelle varie prove\n",
    "rndForest = RandomForestClassifier(random_state=0, criterion='gini')\n",
    "rndForest.fit(X_train, Y_train)\n",
    "\n",
    "# calcolo le predizioni su train set e test set\n",
    "Y_pred_train = rndForest.predict(X_train)\n",
    "Y_pred_test = rndForest.predict(X_test)\n",
    "\n",
    "# calcolo l'accuracy\n",
    "accuracy_train = accuracy_score(Y_train, Y_pred_train)\n",
    "accuracy_test = accuracy_score(Y_test, Y_pred_test)\n",
    "\n",
    "print(\"Uso l'algoritmo 'gini' per l'impurità\")\n",
    "print(\"Accuracy train set:\", accuracy_train)\n",
    "print(\"Accuracy test set:\", accuracy_test)"
   ]
  },
  {
   "cell_type": "code",
   "execution_count": 8,
   "id": "38ac9e24-d08d-4326-b1d3-023399be9b84",
   "metadata": {},
   "outputs": [
    {
     "name": "stdout",
     "output_type": "stream",
     "text": [
      "Limito la profondità a 2\n",
      "Accuracy train set: 0.7283950617283951\n",
      "Accuracy test set: 0.7011494252873564\n"
     ]
    }
   ],
   "source": [
    "# rieseguo limitando la profondità degli alberi\n",
    "rndForest = RandomForestClassifier(random_state=0, criterion='gini', max_depth=2)\n",
    "rndForest.fit(X_train, Y_train)\n",
    "\n",
    "# calcolo le predizioni su train set e test set\n",
    "Y_pred_train = rndForest.predict(X_train)\n",
    "Y_pred_test = rndForest.predict(X_test)\n",
    "\n",
    "# calcolo l'accuracy\n",
    "accuracy_train = accuracy_score(Y_train, Y_pred_train)\n",
    "accuracy_test = accuracy_score(Y_test, Y_pred_test)\n",
    "\n",
    "print(\"Limito la profondità a 2\")\n",
    "print(\"Accuracy train set:\", accuracy_train)\n",
    "print(\"Accuracy test set:\", accuracy_test)"
   ]
  },
  {
   "cell_type": "code",
   "execution_count": 9,
   "id": "6885ed08-98b6-4e7d-b0c2-edf065406b51",
   "metadata": {},
   "outputs": [
    {
     "name": "stdout",
     "output_type": "stream",
     "text": [
      "Limito il numero di alberi a 2\n",
      "Accuracy train set: 0.8987654320987655\n",
      "Accuracy test set: 0.7413793103448276\n"
     ]
    }
   ],
   "source": [
    "# aumento gli estimatori\n",
    "rndForest = RandomForestClassifier(random_state=0, criterion='gini', n_estimators=2)\n",
    "rndForest.fit(X_train, Y_train)\n",
    "\n",
    "# calcolo le predizioni su train set e test set\n",
    "Y_pred_train = rndForest.predict(X_train)\n",
    "Y_pred_test = rndForest.predict(X_test)\n",
    "\n",
    "# calcolo l'accuracy\n",
    "accuracy_train = accuracy_score(Y_train, Y_pred_train)\n",
    "accuracy_test = accuracy_score(Y_test, Y_pred_test)\n",
    "\n",
    "print(\"Limito il numero di alberi a 2\")\n",
    "print(\"Accuracy train set:\", accuracy_train)\n",
    "print(\"Accuracy test set:\", accuracy_test)"
   ]
  }
 ],
 "metadata": {
  "kernelspec": {
   "display_name": "Python 3 (ipykernel)",
   "language": "python",
   "name": "python3"
  },
  "language_info": {
   "codemirror_mode": {
    "name": "ipython",
    "version": 3
   },
   "file_extension": ".py",
   "mimetype": "text/x-python",
   "name": "python",
   "nbconvert_exporter": "python",
   "pygments_lexer": "ipython3",
   "version": "3.9.7"
  }
 },
 "nbformat": 4,
 "nbformat_minor": 5
}
