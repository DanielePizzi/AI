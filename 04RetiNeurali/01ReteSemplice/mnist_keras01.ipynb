{
 "cells": [
  {
   "cell_type": "markdown",
   "id": "6edd9772-3071-408e-a446-e53f1701cb0f",
   "metadata": {},
   "source": [
    "<a href=\"https://colab.research.google.com/github/ccasadei/corso-ia/blob/master/04RetiNeurali/01ReteSemplice/mnist_keras01.ipynb\" target=\"_parent\"><img src=\"https://colab.research.google.com/assets/colab-badge.svg\" alt=\"Open In Colab\"/></a>"
   ]
  },
  {
   "cell_type": "markdown",
   "id": "dfc495f1-7bb4-420e-bbdd-9187e6760a64",
   "metadata": {},
   "source": [
    "# MNIST in Keras\n",
    "## Esercizio 1\n",
    "**Author: Cristiano Casadei**"
   ]
  },
  {
   "cell_type": "code",
   "execution_count": 1,
   "id": "21719a38-47c3-4312-bcca-6018d58fb395",
   "metadata": {},
   "outputs": [],
   "source": [
    "from random import randint\n",
    "\n",
    "import matplotlib.pyplot as plt\n",
    "import numpy\n",
    "from tensorflow.keras import Input, Model\n",
    "from tensorflow.keras.datasets import mnist\n",
    "from tensorflow.keras.layers import Dense\n",
    "from tensorflow.keras.utils import to_categorical"
   ]
  },
  {
   "cell_type": "code",
   "execution_count": 2,
   "id": "7d4451b4-5da1-47fa-ac18-c6e822889461",
   "metadata": {},
   "outputs": [
    {
     "data": {
      "image/png": "[encoded data removed]",
      "text/plain": [
       "<Figure size 640x480 with 4 Axes>"
      ]
     },
     "metadata": {},
     "output_type": "display_data"
    }
   ],
   "source": [
    "# ottengo il dataset MNIST già suddiviso in dataset X e Y, di addestramento e di test\n",
    "(X_train, y_train), (X_test, y_test) = mnist.load_data()\n",
    "\n",
    "# visualizzo 4 cifre random\n",
    "for i in range(4):\n",
    "    plt.subplot(2, 2, (i + 1))\n",
    "    # in 'shape[0]' è contenuto il numero di esempi del dataset (in questo caso di addestramento)\n",
    "    plt.imshow(X_train[randint(0, X_train.shape[0])], cmap=plt.get_cmap('gray'))"
   ]
  },
  {
   "cell_type": "code",
   "execution_count": 3,
   "id": "6bbcab26-a8d9-4290-97d0-6d61f1d8adae",
   "metadata": {},
   "outputs": [],
   "source": [
    "# imposto un seed random in modo da ottenere risultati replicabili, d'ora in avanti\n",
    "numpy.random.seed(1234)\n",
    "\n",
    "# modifico le matrici di pixel in modo da ottenere un vettore di pixel monodimensionale per ogni cifra\n",
    "# in 'shape[1]' e 'shape[2]' è contenuto le dimensioni in pixel (rispettivamente y ed x)\n",
    "num_pixel = X_train.shape[1] * X_train.shape[2]\n",
    "X_train = X_train.reshape(X_train.shape[0], num_pixel).astype('float32')\n",
    "X_test = X_test.reshape(X_test.shape[0], num_pixel).astype('float32')\n",
    "\n",
    "# normalizzo i valori dei pixel portandoli dal range intero 0-255 al range in virgola mobile 0.0-1.0\n",
    "# visto che sono array numpy, è sufficiente eseguire l'operazione direttamente sull'array\n",
    "X_train = X_train / 255\n",
    "X_test = X_test / 255\n",
    "\n",
    "# modifico gli array dei risultati (\"ground truth\") in modo siano in formato 'one hot encode'\n",
    "# quindi i valori interi corrispondenti alla classe della cifra (0, 1, 2, ..., 9) vengono\n",
    "# codificati in stringhe posizionali di 0 ed 1\n",
    "# esempi:\n",
    "#   0 --> 1,0,0,0,0,0,0,0,0,0\n",
    "#   1 --> 0,1,0,0,0,0,0,0,0,0\n",
    "#   2 --> 0,0,1,0,0,0,0,0,0,0\n",
    "#  ....\n",
    "#   9 --> 0,0,0,0,0,0,0,0,0,1\n",
    "# in questo modo è più semplice ottenere un risultato significativo dalla rete neurale, in quanto\n",
    "# ogni cifra posizionale corrisponderà ad un neurone dello strato di output che si attiverà o meno\n",
    "# a seconda del risultato della classificazione della rete neurale\n",
    "# in 'shape[0]' continuerà ad essere contenuto il numero di cifre del dataset\n",
    "# in 'shape[1]' ci sarà invece il numero di cifre posizionali, corrispondente al numero di classi possibili\n",
    "y_train = to_categorical(y_train)\n",
    "y_test = to_categorical(y_test)\n",
    "num_classi = y_train.shape[1]"
   ]
  },
  {
   "cell_type": "code",
   "execution_count": 4,
   "id": "e1f211e0-02c7-42d9-94ae-3ef98a5f5855",
   "metadata": {},
   "outputs": [
    {
     "name": "stdout",
     "output_type": "stream",
     "text": [
      "Model: \"model\"\n",
      "_________________________________________________________________\n",
      "Layer (type)                 Output Shape              Param #   \n",
      "=================================================================\n",
      "input_layer (InputLayer)     [(None, 784)]             0         \n",
      "_________________________________________________________________\n",
      "inner_layer (Dense)          (None, 784)               615440    \n",
      "_________________________________________________________________\n",
      "output_layer (Dense)         (None, 10)                7850      \n",
      "=================================================================\n",
      "Total params: 623,290\n",
      "Trainable params: 623,290\n",
      "Non-trainable params: 0\n",
      "_________________________________________________________________\n"
     ]
    },
    {
     "name": "stderr",
     "output_type": "stream",
     "text": [
      "2022-12-19 14:01:25.267571: I tensorflow/stream_executor/cuda/cuda_gpu_executor.cc:937] successful NUMA node read from SysFS had negative value (-1), but there must be at least one NUMA node, so returning NUMA node zero\n",
      "2022-12-19 14:01:25.272623: I tensorflow/stream_executor/cuda/cuda_gpu_executor.cc:937] successful NUMA node read from SysFS had negative value (-1), but there must be at least one NUMA node, so returning NUMA node zero\n",
      "2022-12-19 14:01:25.272777: I tensorflow/stream_executor/cuda/cuda_gpu_executor.cc:937] successful NUMA node read from SysFS had negative value (-1), but there must be at least one NUMA node, so returning NUMA node zero\n",
      "2022-12-19 14:01:25.273145: I tensorflow/core/platform/cpu_feature_guard.cc:142] This TensorFlow binary is optimized with oneAPI Deep Neural Network Library (oneDNN) to use the following CPU instructions in performance-critical operations:  AVX2 AVX512F FMA\n",
      "To enable them in other operations, rebuild TensorFlow with the appropriate compiler flags.\n",
      "2022-12-19 14:01:25.274195: I tensorflow/stream_executor/cuda/cuda_gpu_executor.cc:937] successful NUMA node read from SysFS had negative value (-1), but there must be at least one NUMA node, so returning NUMA node zero\n",
      "2022-12-19 14:01:25.274349: I tensorflow/stream_executor/cuda/cuda_gpu_executor.cc:937] successful NUMA node read from SysFS had negative value (-1), but there must be at least one NUMA node, so returning NUMA node zero\n",
      "2022-12-19 14:01:25.274464: I tensorflow/stream_executor/cuda/cuda_gpu_executor.cc:937] successful NUMA node read from SysFS had negative value (-1), but there must be at least one NUMA node, so returning NUMA node zero\n",
      "2022-12-19 14:01:25.791752: I tensorflow/stream_executor/cuda/cuda_gpu_executor.cc:937] successful NUMA node read from SysFS had negative value (-1), but there must be at least one NUMA node, so returning NUMA node zero\n",
      "2022-12-19 14:01:25.791921: I tensorflow/stream_executor/cuda/cuda_gpu_executor.cc:937] successful NUMA node read from SysFS had negative value (-1), but there must be at least one NUMA node, so returning NUMA node zero\n",
      "2022-12-19 14:01:25.792041: I tensorflow/stream_executor/cuda/cuda_gpu_executor.cc:937] successful NUMA node read from SysFS had negative value (-1), but there must be at least one NUMA node, so returning NUMA node zero\n",
      "2022-12-19 14:01:25.792135: W tensorflow/core/common_runtime/gpu/gpu_bfc_allocator.cc:39] Overriding allow_growth setting because the TF_FORCE_GPU_ALLOW_GROWTH environment variable is set. Original config value was 0.\n",
      "2022-12-19 14:01:25.792159: I tensorflow/core/common_runtime/gpu/gpu_device.cc:1510] Created device /job:localhost/replica:0/task:0/device:GPU:0 with 16416 MB memory:  -> device: 0, name: Quadro RTX 6000, pci bus id: 0000:03:00.0, compute capability: 7.5\n"
     ]
    }
   ],
   "source": [
    "# definisco un modello di rete neurale\n",
    "# come dimensione del layer di ingresso uso quelle del train set (esclusa la dimensione iniziale del numero di cifre del dataset)\n",
    "input_layer = Input(shape=X_train.shape[1:], name=\"input_layer\")\n",
    "inner_layer = Dense(num_pixel, name=\"inner_layer\")(input_layer)\n",
    "output_layer = Dense(num_classi, activation=\"softmax\", name=\"output_layer\")(inner_layer)\n",
    "\n",
    "model = Model(inputs=[input_layer], outputs=[output_layer])\n",
    "model.summary()"
   ]
  },
  {
   "cell_type": "code",
   "execution_count": 5,
   "id": "c57d0e96-84e4-48cc-a37a-cd21f017ca2d",
   "metadata": {},
   "outputs": [
    {
     "name": "stderr",
     "output_type": "stream",
     "text": [
      "2022-12-19 14:01:26.313496: I tensorflow/compiler/mlir/mlir_graph_optimization_pass.cc:185] None of the MLIR Optimization Passes are enabled (registered 2)\n"
     ]
    },
    {
     "name": "stdout",
     "output_type": "stream",
     "text": [
      "Epoch 1/10\n",
      "235/235 [==============================] - 1s 2ms/step - loss: 0.3759 - accuracy: 0.8917 - val_loss: 0.3066 - val_accuracy: 0.9151\n",
      "Epoch 2/10\n",
      "235/235 [==============================] - 0s 2ms/step - loss: 0.2951 - accuracy: 0.9171 - val_loss: 0.2909 - val_accuracy: 0.9189\n",
      "Epoch 3/10\n",
      "235/235 [==============================] - 0s 2ms/step - loss: 0.2843 - accuracy: 0.9205 - val_loss: 0.2915 - val_accuracy: 0.9193\n",
      "Epoch 4/10\n",
      "235/235 [==============================] - 0s 2ms/step - loss: 0.2764 - accuracy: 0.9227 - val_loss: 0.2835 - val_accuracy: 0.9212\n",
      "Epoch 5/10\n",
      "235/235 [==============================] - 0s 2ms/step - loss: 0.2720 - accuracy: 0.9247 - val_loss: 0.2765 - val_accuracy: 0.9243\n",
      "Epoch 6/10\n",
      "235/235 [==============================] - 0s 2ms/step - loss: 0.2680 - accuracy: 0.9245 - val_loss: 0.2834 - val_accuracy: 0.9241\n",
      "Epoch 7/10\n",
      "235/235 [==============================] - 0s 2ms/step - loss: 0.2640 - accuracy: 0.9265 - val_loss: 0.2864 - val_accuracy: 0.9220\n",
      "Epoch 8/10\n",
      "235/235 [==============================] - 0s 2ms/step - loss: 0.2626 - accuracy: 0.9272 - val_loss: 0.2924 - val_accuracy: 0.9207\n",
      "Epoch 9/10\n",
      "235/235 [==============================] - 0s 2ms/step - loss: 0.2614 - accuracy: 0.9264 - val_loss: 0.2973 - val_accuracy: 0.9179\n",
      "Epoch 10/10\n",
      "235/235 [==============================] - 0s 2ms/step - loss: 0.2598 - accuracy: 0.9267 - val_loss: 0.2919 - val_accuracy: 0.9216\n"
     ]
    },
    {
     "data": {
      "text/plain": [
       "<keras.callbacks.History at 0x7f8acc1e4280>"
      ]
     },
     "execution_count": 5,
     "metadata": {},
     "output_type": "execute_result"
    }
   ],
   "source": [
    "\n",
    "# compilo il modello indicando che tipo di loss_function devo utilizzare,\n",
    "# il tipo di ottimizzatore e le metriche che voglio vengano calcolate\n",
    "model.compile(loss=\"categorical_crossentropy\",\n",
    "              optimizer=\"adam\",\n",
    "              metrics=[\"accuracy\"])\n",
    "\n",
    "# addestro il modello\n",
    "model.fit(X_train, y_train, validation_data=(X_test, y_test),\n",
    "          epochs=10, batch_size=256, verbose=1)"
   ]
  },
  {
   "cell_type": "code",
   "execution_count": 6,
   "id": "5ceaa518-168a-4ed7-b196-2dbe3215765e",
   "metadata": {},
   "outputs": [
    {
     "name": "stdout",
     "output_type": "stream",
     "text": [
      "313/313 [==============================] - 0s 1ms/step - loss: 0.2919 - accuracy: 0.9216\n",
      "Errore del modello: 7.84%\n"
     ]
    }
   ],
   "source": [
    "# valuto il modello\n",
    "valutazioni = model.evaluate(X_test, y_test, verbose=1)\n",
    "print(\"Errore del modello: {:.2f}%\".format(100 - valutazioni[1] * 100))"
   ]
  }
 ],
 "metadata": {
  "kernelspec": {
   "display_name": "Python 3 (ipykernel)",
   "language": "python",
   "name": "python3"
  },
  "language_info": {
   "codemirror_mode": {
    "name": "ipython",
    "version": 3
   },
   "file_extension": ".py",
   "mimetype": "text/x-python",
   "name": "python",
   "nbconvert_exporter": "python",
   "pygments_lexer": "ipython3",
   "version": "3.9.7"
  }
 },
 "nbformat": 4,
 "nbformat_minor": 5
}
