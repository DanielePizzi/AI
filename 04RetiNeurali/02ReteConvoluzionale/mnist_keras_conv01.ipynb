{
 "cells": [
  {
   "cell_type": "markdown",
   "id": "d14c116e-5144-4dff-a922-f8ea648a23b6",
   "metadata": {},
   "source": [
    "<a href=\"https://colab.research.google.com/github/ccasadei/corso-ia/blob/master/04RetiNeurali/02ReteConvoluzionale/mnist_keras_conv01.ipynb\" target=\"_parent\"><img src=\"https://colab.research.google.com/assets/colab-badge.svg\" alt=\"Open In Colab\"/></a>"
   ]
  },
  {
   "cell_type": "markdown",
   "id": "107cdd16-d49c-44e3-9a32-16dead071784",
   "metadata": {},
   "source": [
    "# MNIST in Keras Convoluzionale\n",
    "## Esercizio 1\n",
    "**Author: Cristiano Casadei**"
   ]
  },
  {
   "cell_type": "code",
   "execution_count": 1,
   "id": "82681069-ea6f-4ea5-b062-2a91a8ce90bf",
   "metadata": {},
   "outputs": [],
   "source": [
    "from random import randint\n",
    "\n",
    "import matplotlib.pyplot as plt\n",
    "import numpy\n",
    "from tensorflow.keras import Input, Model\n",
    "from tensorflow.keras.datasets import mnist\n",
    "from tensorflow.keras.layers import Dense, Conv2D, MaxPooling2D, Dropout, Flatten\n",
    "from tensorflow.keras.utils import to_categorical"
   ]
  },
  {
   "cell_type": "code",
   "execution_count": 2,
   "id": "8aea827f-7f6c-4434-bca1-3cce36ff41ac",
   "metadata": {},
   "outputs": [
    {
     "data": {
      "image/png": "[encoded data removed]",
      "text/plain": [
       "<Figure size 640x480 with 4 Axes>"
      ]
     },
     "metadata": {},
     "output_type": "display_data"
    }
   ],
   "source": [
    "# ottengo il dataset MNIST già suddiviso in dataset X e Y, di addestramento e di test\n",
    "(X_train, y_train), (X_test, y_test) = mnist.load_data()\n",
    "\n",
    "# visualizzo 4 cifre random\n",
    "for i in range(4):\n",
    "    plt.subplot(2, 2, (i + 1))\n",
    "    # in 'shape[0]' è contenuto il numero di esempi del dataset (in questo caso di addestramento)\n",
    "    plt.imshow(X_train[randint(0, X_train.shape[0])], cmap=plt.get_cmap('gray'))"
   ]
  },
  {
   "cell_type": "code",
   "execution_count": 3,
   "id": "dcc6b1c5-8e94-44be-8abc-47269d497e72",
   "metadata": {},
   "outputs": [],
   "source": [
    "# imposto un seed random in modo da ottenere risultati replicabili, d'ora in avanti\n",
    "numpy.random.seed(1234)\n",
    "\n",
    "# modifico le matrici di pixel in modo da ottenere una matrice di pixels monocromatici\n",
    "# usando Tensorflow, il canale del colore è l'ultimo dopo le dimensioni (ncifre, dimy, dimx, ncanalicolore)\n",
    "# con altri backend (ad esempio Theano) il canale va prima delle dimensioni (ncifre, ncanalicolore, dimy, dimx)\n",
    "X_train = X_train.reshape(X_train.shape[0], 28, 28, 1).astype('float32')\n",
    "X_test = X_test.reshape(X_test.shape[0], 28, 28, 1).astype('float32')\n",
    "\n",
    "# normalizzo i valori dei pixel portandoli dal range intero 0-255 al range in virgola mobile 0.0-1.0\n",
    "# visto che sono array numpy, è sufficiente eseguire l'operazione direttamente sull'array\n",
    "X_train = X_train / 255\n",
    "X_test = X_test / 255\n",
    "\n",
    "# modifico gli array dei risultati (\"ground truth\") in modo siano in formato 'one hot encode'\n",
    "# quindi i valori interi corrispondenti alla classe della cifra (0, 1, 2, ..., 9) vengono\n",
    "# codificati in stringhe posizionali di 0 ed 1\n",
    "# esempi:\n",
    "#   0 --> 1,0,0,0,0,0,0,0,0,0\n",
    "#   1 --> 0,1,0,0,0,0,0,0,0,0\n",
    "#   2 --> 0,0,1,0,0,0,0,0,0,0\n",
    "#  ....\n",
    "#   9 --> 0,0,0,0,0,0,0,0,0,1\n",
    "# in questo modo è più semplice ottenere un risultato significativo dalla rete neurale, in quanto\n",
    "# ogni cifra posizionale corrisponderà ad un neurone dello strato di output che si attiverà o meno\n",
    "# a seconda del risultato della classificazione della rete neurale\n",
    "# in 'shape[0]' continuerà ad essere contenuto il numero di cifre del dataset\n",
    "# in 'shape[1]' ci sarà invece il numero di cifre posizionali, corrispondente al numero di classi possibili\n",
    "y_train = to_categorical(y_train)\n",
    "y_test = to_categorical(y_test)\n",
    "num_classi = y_train.shape[1]"
   ]
  },
  {
   "cell_type": "code",
   "execution_count": 4,
   "id": "e3eea787-aba6-45fe-87aa-907c0af45299",
   "metadata": {},
   "outputs": [
    {
     "name": "stderr",
     "output_type": "stream",
     "text": [
      "2022-12-19 14:02:17.243194: I tensorflow/stream_executor/cuda/cuda_gpu_executor.cc:937] successful NUMA node read from SysFS had negative value (-1), but there must be at least one NUMA node, so returning NUMA node zero\n",
      "2022-12-19 14:02:17.248151: I tensorflow/stream_executor/cuda/cuda_gpu_executor.cc:937] successful NUMA node read from SysFS had negative value (-1), but there must be at least one NUMA node, so returning NUMA node zero\n",
      "2022-12-19 14:02:17.248326: I tensorflow/stream_executor/cuda/cuda_gpu_executor.cc:937] successful NUMA node read from SysFS had negative value (-1), but there must be at least one NUMA node, so returning NUMA node zero\n",
      "2022-12-19 14:02:17.249032: I tensorflow/core/platform/cpu_feature_guard.cc:142] This TensorFlow binary is optimized with oneAPI Deep Neural Network Library (oneDNN) to use the following CPU instructions in performance-critical operations:  AVX2 AVX512F FMA\n",
      "To enable them in other operations, rebuild TensorFlow with the appropriate compiler flags.\n",
      "2022-12-19 14:02:17.249942: I tensorflow/stream_executor/cuda/cuda_gpu_executor.cc:937] successful NUMA node read from SysFS had negative value (-1), but there must be at least one NUMA node, so returning NUMA "
     ]
    },
    {
     "name": "stdout",
     "output_type": "stream",
     "text": [
      "Model: \"model\"\n",
      "_________________________________________________________________\n",
      "Layer (type)                 Output Shape              Param #   \n",
      "=================================================================\n",
      "input_layer (InputLayer)     [(None, 28, 28, 1)]       0         \n",
      "_________________________________________________________________\n",
      "conv_layer (Conv2D)          (None, 24, 24, 32)        832       \n",
      "_________________________________________________________________\n",
      "maxpool_layer (MaxPooling2D) (None, 12, 12, 32)        0         \n",
      "_________________________________________________________________\n",
      "drop_layer (Dropout)         (None, 12, 12, 32)        0         \n",
      "_________________________________________________________________\n",
      "flatten_layer (Flatten)      (None, 4608)              0         \n",
      "_________________________________________________________________\n",
      "dense_layer (Dense)          (None, 128)               589952    \n",
      "_________________________________________________________________\n",
      "output_layer (Dense)         (None, 10)                1290      \n",
      "=================================================================\n",
      "Total params: 592,074\n",
      "Trainable params: 592,074\n",
      "Non-trainable params: 0\n",
      "_________________________________________________________________\n"
     ]
    },
    {
     "name": "stderr",
     "output_type": "stream",
     "text": [
      "node zero\n",
      "2022-12-19 14:02:17.250103: I tensorflow/stream_executor/cuda/cuda_gpu_executor.cc:937] successful NUMA node read from SysFS had negative value (-1), but there must be at least one NUMA node, so returning NUMA node zero\n",
      "2022-12-19 14:02:17.250221: I tensorflow/stream_executor/cuda/cuda_gpu_executor.cc:937] successful NUMA node read from SysFS had negative value (-1), but there must be at least one NUMA node, so returning NUMA node zero\n",
      "2022-12-19 14:02:17.748675: I tensorflow/stream_executor/cuda/cuda_gpu_executor.cc:937] successful NUMA node read from SysFS had negative value (-1), but there must be at least one NUMA node, so returning NUMA node zero\n",
      "2022-12-19 14:02:17.748846: I tensorflow/stream_executor/cuda/cuda_gpu_executor.cc:937] successful NUMA node read from SysFS had negative value (-1), but there must be at least one NUMA node, so returning NUMA node zero\n",
      "2022-12-19 14:02:17.748969: I tensorflow/stream_executor/cuda/cuda_gpu_executor.cc:937] successful NUMA node read from SysFS had negative value (-1), but there must be at least one NUMA node, so returning NUMA node zero\n",
      "2022-12-19 14:02:17.749063: W tensorflow/core/common_runtime/gpu/gpu_bfc_allocator.cc:39] Overriding allow_growth setting because the TF_FORCE_GPU_ALLOW_GROWTH environment variable is set. Original config value was 0.\n",
      "2022-12-19 14:02:17.749105: I tensorflow/core/common_runtime/gpu/gpu_device.cc:1510] Created device /job:localhost/replica:0/task:0/device:GPU:0 with 15411 MB memory:  -> device: 0, name: Quadro RTX 6000, pci bus id: 0000:03:00.0, compute capability: 7.5\n"
     ]
    }
   ],
   "source": [
    "# definisco un modello di rete neurale convoluzionale\n",
    "# come dimensione del layer di ingresso uso quelle del train set (esclusa la dimensione iniziale del numero di cifre del dataset)\n",
    "input_layer = Input(shape=X_train.shape[1:], name=\"input_layer\")\n",
    "inner_layer = Conv2D(32, (5, 5), activation=\"relu\", name=\"conv_layer\")(input_layer)\n",
    "inner_layer = MaxPooling2D(pool_size=(2, 2), name=\"maxpool_layer\")(inner_layer)\n",
    "inner_layer = Dropout(rate=0.2, name=\"drop_layer\")(inner_layer)\n",
    "inner_layer = Flatten(name=\"flatten_layer\")(inner_layer)\n",
    "inner_layer = Dense(128, activation=\"relu\", name=\"dense_layer\")(inner_layer)\n",
    "output_layer = Dense(num_classi, activation=\"softmax\", name=\"output_layer\")(inner_layer)\n",
    "\n",
    "model = Model(inputs=[input_layer], outputs=[output_layer])\n",
    "model.summary()"
   ]
  },
  {
   "cell_type": "code",
   "execution_count": 5,
   "id": "8ac2eff2-49b4-41d8-a03d-d8bdd140cc0d",
   "metadata": {},
   "outputs": [
    {
     "name": "stderr",
     "output_type": "stream",
     "text": [
      "2022-12-19 14:02:18.016732: W tensorflow/core/framework/cpu_allocator_impl.cc:80] Allocation of 188160000 exceeds 10% of free system memory.\n",
      "2022-12-19 14:02:18.191732: W tensorflow/core/framework/cpu_allocator_impl.cc:80] Allocation of 188160000 exceeds 10% of free system memory.\n",
      "2022-12-19 14:02:18.298901: I tensorflow/compiler/mlir/mlir_graph_optimization_pass.cc:185] None of the MLIR Optimization Passes are enabled (registered 2)\n"
     ]
    },
    {
     "name": "stdout",
     "output_type": "stream",
     "text": [
      "Epoch 1/10\n"
     ]
    },
    {
     "name": "stderr",
     "output_type": "stream",
     "text": [
      "2022-12-19 14:02:19.101973: I tensorflow/stream_executor/cuda/cuda_dnn.cc:369] Loaded cuDNN version 8101\n",
      "2022-12-19 14:02:19.640324: I tensorflow/core/platform/default/subprocess.cc:304] Start cannot spawn child process: No such file or directory\n",
      "2022-12-19 14:02:19.640675: I tensorflow/core/platform/default/subprocess.cc:304] Start cannot spawn child process: No such file or directory\n",
      "2022-12-19 14:02:19.640703: W tensorflow/stream_executor/gpu/asm_compiler.cc:77] Couldn't get ptxas version string: Internal: Couldn't invoke ptxas --version\n",
      "2022-12-19 14:02:19.641155: I tensorflow/core/platform/default/subprocess.cc:304] Start cannot spawn child process: No such file or directory\n",
      "2022-12-19 14:02:19.641270: W tensorflow/stream_executor/gpu/redzone_allocator.cc:314] Internal: Failed to launch ptxas\n",
      "Relying on driver to perform ptx compilation. \n",
      "Modify $PATH to customize ptxas location.\n",
      "This message will be only logged once.\n"
     ]
    },
    {
     "name": "stdout",
     "output_type": "stream",
     "text": [
      "235/235 [==============================] - 3s 3ms/step - loss: 0.2866 - accuracy: 0.9189 - val_loss: 0.0948 - val_accuracy: 0.9720\n",
      "Epoch 2/10\n",
      "235/235 [==============================] - 1s 3ms/step - loss: 0.0841 - accuracy: 0.9752 - val_loss: 0.0562 - val_accuracy: 0.9820\n",
      "Epoch 3/10\n",
      "235/235 [==============================] - 1s 3ms/step - loss: 0.0586 - accuracy: 0.9824 - val_loss: 0.0457 - val_accuracy: 0.9859\n",
      "Epoch 4/10\n",
      "235/235 [==============================] - 1s 3ms/step - loss: 0.0467 - accuracy: 0.9858 - val_loss: 0.0517 - val_accuracy: 0.9832\n",
      "Epoch 5/10\n",
      "235/235 [==============================] - 1s 3ms/step - loss: 0.0381 - accuracy: 0.9881 - val_loss: 0.0383 - val_accuracy: 0.9883\n",
      "Epoch 6/10\n",
      "235/235 [==============================] - 1s 3ms/step - loss: 0.0315 - accuracy: 0.9902 - val_loss: 0.0338 - val_accuracy: 0.9884\n",
      "Epoch 7/10\n",
      "235/235 [==============================] - 1s 3ms/step - loss: 0.0281 - accuracy: 0.9912 - val_loss: 0.0325 - val_accuracy: 0.9889\n",
      "Epoch 8/10\n",
      "235/235 [==============================] - 1s 3ms/step - loss: 0.0229 - accuracy: 0.9926 - val_loss: 0.0368 - val_accuracy: 0.9887\n",
      "Epoch 9/10\n",
      "235/235 [==============================] - 1s 3ms/step - loss: 0.0211 - accuracy: 0.9930 - val_loss: 0.0343 - val_accuracy: 0.9893\n",
      "Epoch 10/10\n",
      "235/235 [==============================] - 1s 3ms/step - loss: 0.0180 - accuracy: 0.9946 - val_loss: 0.0362 - val_accuracy: 0.9887\n"
     ]
    },
    {
     "data": {
      "text/plain": [
       "<keras.callbacks.History at 0x7f407c14a490>"
      ]
     },
     "execution_count": 5,
     "metadata": {},
     "output_type": "execute_result"
    }
   ],
   "source": [
    "# compilo il modello indicando che tipo di loss_function devo utilizzare,\n",
    "# il tipo di ottimizzatore e le metriche che voglio vengano calcolate\n",
    "model.compile(loss=\"categorical_crossentropy\",\n",
    "              optimizer=\"adam\",\n",
    "              metrics=[\"accuracy\"])\n",
    "\n",
    "# addestro il modello\n",
    "model.fit(X_train, y_train, validation_data=(X_test, y_test),\n",
    "          epochs=10, batch_size=256, verbose=1)"
   ]
  },
  {
   "cell_type": "code",
   "execution_count": 6,
   "id": "c43b74cc-41ba-4de3-9e55-b8a4732a671d",
   "metadata": {},
   "outputs": [
    {
     "name": "stdout",
     "output_type": "stream",
     "text": [
      "313/313 [==============================] - 0s 1ms/step - loss: 0.0362 - accuracy: 0.9887\n",
      "Errore del modello: 1.13%\n"
     ]
    }
   ],
   "source": [
    "# valuto il modello\n",
    "valutazioni = model.evaluate(X_test, y_test, verbose=1)\n",
    "print(\"Errore del modello: {:.2f}%\".format(100 - valutazioni[1] * 100))"
   ]
  }
 ],
 "metadata": {
  "kernelspec": {
   "display_name": "Python 3 (ipykernel)",
   "language": "python",
   "name": "python3"
  },
  "language_info": {
   "codemirror_mode": {
    "name": "ipython",
    "version": 3
   },
   "file_extension": ".py",
   "mimetype": "text/x-python",
   "name": "python",
   "nbconvert_exporter": "python",
   "pygments_lexer": "ipython3",
   "version": "3.9.7"
  }
 },
 "nbformat": 4,
 "nbformat_minor": 5
}
