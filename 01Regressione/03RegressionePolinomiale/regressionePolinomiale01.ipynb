{
 "cells": [
  {
   "cell_type": "markdown",
   "id": "78735c82-d8b3-4e8a-85bf-6770a38991e5",
   "metadata": {},
   "source": [
    "<a href=\"https://colab.research.google.com/github/ccasadei/corso-ia/blob/master/01Regressione/03RegressionePolinomiale/regressionePolinomiale01.ipynb\" target=\"_parent\"><img src=\"https://colab.research.google.com/assets/colab-badge.svg\" alt=\"Open In Colab\"/></a>"
   ]
  },
  {
   "cell_type": "markdown",
   "id": "83df2b02-f8f0-4e46-9e50-69ef30b52238",
   "metadata": {},
   "source": [
    "# Regressione polinomiale\n",
    "## Esercizio 1\n",
    "**Author: Cristiano Casadei**"
   ]
  },
  {
   "cell_type": "code",
   "execution_count": 1,
   "id": "65b5f6ee-d7f7-4fad-981b-b91ecbf30cde",
   "metadata": {},
   "outputs": [],
   "source": [
    "import pandas as pd\n",
    "from sklearn.linear_model import LinearRegression\n",
    "from sklearn.metrics import mean_squared_error, r2_score\n",
    "from sklearn.model_selection import train_test_split\n",
    "from sklearn.preprocessing import PolynomialFeatures, StandardScaler"
   ]
  },
  {
   "cell_type": "code",
   "execution_count": 2,
   "id": "3c39f386-15da-428f-b582-d5d4bb1caa56",
   "metadata": {},
   "outputs": [
    {
     "name": "stdout",
     "output_type": "stream",
     "text": [
      "Utilizzo solo LSTAT\n",
      "Grado: 1  - MSE: 0.561293110009808  - R2: 0.561293110009808\n",
      "Grado: 2  - MSE: 0.6561389171118858  - R2: 0.6561389171118858\n",
      "Grado: 3  - MSE: 0.6770922322673483  - R2: 0.6770922322673483\n",
      "Grado: 4  - MSE: 0.695860782301003  - R2: 0.695860782301003\n",
      "Grado: 5  - MSE: 0.6826978684220155  - R2: 0.6826978684220155\n",
      "Grado: 6  - MSE: 0.6749390736563452  - R2: 0.6749390736563452\n",
      "Grado: 7  - MSE: 0.6747390224812388  - R2: 0.6747390224812388\n",
      "Grado: 8  - MSE: 0.6754703185274076  - R2: 0.6754703185274076\n",
      "Grado: 9  - MSE: 0.6773603201346436  - R2: 0.6773603201346436\n",
      "Grado: 10  - MSE: 0.6792253949025571  - R2: 0.6792253949025571\n"
     ]
    }
   ],
   "source": [
    "# importiamo il solito dataset al completo\n",
    "dataset = pd.read_csv(\"https://archive.ics.uci.edu/ml/machine-learning-databases/housing/housing.data\",\n",
    "                      sep=\"\\s+\",\n",
    "                      names=[\"CRIM\", \"ZN\", \"INDUS\", \"CHAS\", \"NOX\", \"RM\", \"AGE\", \"DIS\", \"RAD\", \"TAX\", \"PRATIO\", \"B\", \"LSTAT\", \"MEDV\"])\n",
    "\n",
    "print(\"Utilizzo solo LSTAT\")\n",
    "\n",
    "# associamo ad X i valori di input di LSTAT\n",
    "# associamo ad Y i valori di output\n",
    "X = dataset[[\"LSTAT\"]].values\n",
    "Y = dataset[\"MEDV\"].values\n",
    "\n",
    "# suddividiamo il dataset in due dataset, uno di training ed uno di test\n",
    "# questa volta uso un random state fisso, in modo che i dati vengano mischiati, ma sempre allo stesso modo\n",
    "# così da poter confrontare direttamente i vari metodi di regressione\n",
    "# in pratica random_state è il seed del generatore random\n",
    "X_train, X_test, Y_train, Y_test = train_test_split(X, Y, test_size=0.3, random_state=1234)\n",
    "\n",
    "# ciclo il procedimento per vedere i risultati dei vari gradi del polinomio\n",
    "# in questo caso vado da grado 1 (lineare) a grado 10\n",
    "for grado in range(1, 11):\n",
    "    # istanzo il generatore di feature polinomiali per il grado corrente\n",
    "    # successivamente lo utilizzo per generare le feature per i set di training e di test\n",
    "    polyfeatures = PolynomialFeatures(degree=grado)\n",
    "    X_train_poly = polyfeatures.fit_transform(X_train)\n",
    "    X_test_poly = polyfeatures.transform(X_test)\n",
    "\n",
    "    # istanzio la classe di standardizzazione e standardizzo le feature polinomiali dei due set\n",
    "    ss = StandardScaler()\n",
    "    X_train_poly_std = ss.fit_transform(X_train_poly)\n",
    "    X_test_poly_std = ss.transform(X_test_poly)\n",
    "\n",
    "    # la regressione polinomiale è un caso particolare di regressione lineare multipla,\n",
    "    # quindi proseguo come già visto utilizzando però i set arricchiti con le feature polinomiali\n",
    "    lRegr = LinearRegression()\n",
    "    lRegr.fit(X_train_poly_std, Y_train)\n",
    "    Y_pred = lRegr.predict(X_test_poly_std)\n",
    "\n",
    "    # calcoliamo l'errore quadratico medio e il coefficiente di determinazione\n",
    "    errore = mean_squared_error(Y_test, Y_pred)\n",
    "    punteggio = r2_score(Y_test, Y_pred)\n",
    "    print(\"Grado:\", grado, \" - MSE:\", punteggio, \" - R2:\", punteggio)"
   ]
  },
  {
   "cell_type": "code",
   "execution_count": 3,
   "id": "c5a50165-c257-4b44-b777-4b80c3d96712",
   "metadata": {},
   "outputs": [
    {
     "name": "stdout",
     "output_type": "stream",
     "text": [
      "Utilizzo tutte le colonne\n",
      "Grado: 1  - MSE: 0.738410984790933  - R2: 0.738410984790933\n",
      "Grado: 2  - MSE: 0.8492301327888622  - R2: 0.8492301327888622\n",
      "Grado: 3  - MSE: -125.96148346681773  - R2: -125.96148346681773\n",
      "Grado: 4  - MSE: -10.802897842510832  - R2: -10.802897842510832\n"
     ]
    }
   ],
   "source": [
    "print(\"Utilizzo tutte le colonne\")\n",
    "# associamo ad X i valori di tutte le colonne meno MEDV\n",
    "# associamo ad Y i valori di output\n",
    "X = dataset.drop(\"MEDV\", axis=1).values\n",
    "Y = dataset[\"MEDV\"].values\n",
    "\n",
    "# suddividiamo il dataset in due dataset, uno di training ed uno di test\n",
    "X_train, X_test, Y_train, Y_test = train_test_split(X, Y, test_size=0.3, random_state=1234)\n",
    "\n",
    "# ciclo da grado 1 (lineare) a grado 4\n",
    "for grado in range(1, 5):\n",
    "    # genero le feature per i set di training e di test\n",
    "    polyfeatures = PolynomialFeatures(degree=grado)\n",
    "    X_train_poly = polyfeatures.fit_transform(X_train)\n",
    "    X_test_poly = polyfeatures.transform(X_test)\n",
    "\n",
    "    # standardizzo le feature polinomiali dei due set\n",
    "    ss = StandardScaler()\n",
    "    X_train_poly_std = ss.fit_transform(X_train_poly)\n",
    "    X_test_poly_std = ss.transform(X_test_poly)\n",
    "\n",
    "    # eseguo la regressione lineare multipla,\n",
    "    lRegr = LinearRegression()\n",
    "    lRegr.fit(X_train_poly_std, Y_train)\n",
    "    Y_pred = lRegr.predict(X_test_poly_std)\n",
    "\n",
    "    # visualizzo i risultati\n",
    "    errore = mean_squared_error(Y_test, Y_pred)\n",
    "    punteggio = r2_score(Y_test, Y_pred)\n",
    "    print(\"Grado:\", grado, \" - MSE:\", punteggio, \" - R2:\", punteggio)"
   ]
  }
 ],
 "metadata": {
  "kernelspec": {
   "display_name": "Python 3 (ipykernel)",
   "language": "python",
   "name": "python3"
  },
  "language_info": {
   "codemirror_mode": {
    "name": "ipython",
    "version": 3
   },
   "file_extension": ".py",
   "mimetype": "text/x-python",
   "name": "python",
   "nbconvert_exporter": "python",
   "pygments_lexer": "ipython3",
   "version": "3.9.7"
  }
 },
 "nbformat": 4,
 "nbformat_minor": 5
}
